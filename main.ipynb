{
 "cells": [
  {
   "attachments": {},
   "cell_type": "markdown",
   "metadata": {},
   "source": [
    "## CoinMarketCap API"
   ]
  },
  {
   "attachments": {},
   "cell_type": "markdown",
   "metadata": {},
   "source": [
    "###### Bibliotecas "
   ]
  },
  {
   "cell_type": "code",
   "execution_count": null,
   "metadata": {},
   "outputs": [],
   "source": [
    "from bs4 import BeautifulSoup\n",
    "import requests\n",
    "import re\n",
    "import pandas as pd"
   ]
  },
  {
   "attachments": {},
   "cell_type": "markdown",
   "metadata": {},
   "source": [
    "###### Conectar com o site"
   ]
  },
  {
   "cell_type": "code",
   "execution_count": null,
   "metadata": {},
   "outputs": [],
   "source": [
    "link = 'https://coinmarketcap.com/'\n",
    "requisicao = requests.get(link)\n",
    "\n",
    "site = BeautifulSoup(requisicao.text, 'html.parser')"
   ]
  },
  {
   "attachments": {},
   "cell_type": "markdown",
   "metadata": {},
   "source": [
    "###### Tabela"
   ]
  },
  {
   "cell_type": "code",
   "execution_count": null,
   "metadata": {},
   "outputs": [],
   "source": [
    "tbody = site.find('tbody')\n",
    "linhas = tbody.find_all('tr')\n",
    "\n",
    "moedas = {}\n",
    "\n",
    "for linha in linhas:\n",
    "  try:   \n",
    "    nome = linha.find(class_='kKpPOn').text\n",
    "    codigo = linha.find(class_='coin-item-symbol').text\n",
    "    valores = linha.find_all(string=re.compile('\\$'))\n",
    "    preco = valores[0]\n",
    "    percentuais = linha.find_all(string=re.compile('%'))\n",
    "\n",
    "    for i, percentual in enumerate(percentuais):\n",
    "      if 'bQjSqS' in percentual.parent[\"class\"]:\n",
    "        percentuais[i] = \"-\" + str(percentual)\n",
    "\n",
    "    var_1h = percentuais[0]\n",
    "    var_24h = percentuais[1]\n",
    "    var_7d =  percentuais[2]\n",
    "\n",
    "    market_cap = valores[2]\n",
    "    volume = valores[3]\n",
    "    dic = {\"nome\": nome, \"codigo\": codigo, \"preco\": preco, \"var_1h\": var_1h, \"var_24h\": var_24h, \"var_7d\": var_7d,\"market_cap\": market_cap, \"volume\": volume}\n",
    "    moedas[nome] = dic\n",
    "  except AttributeError:\n",
    "    break"
   ]
  },
  {
   "attachments": {},
   "cell_type": "markdown",
   "metadata": {},
   "source": [
    "###### Resultado"
   ]
  },
  {
   "cell_type": "code",
   "execution_count": null,
   "metadata": {},
   "outputs": [],
   "source": [
    "df = pd.DataFrame(moedas)\n",
    "display(df)"
   ]
  }
 ],
 "metadata": {
  "kernelspec": {
   "display_name": "base",
   "language": "python",
   "name": "python3"
  },
  "language_info": {
   "codemirror_mode": {
    "name": "ipython",
    "version": 3
   },
   "file_extension": ".py",
   "mimetype": "text/x-python",
   "name": "python",
   "nbconvert_exporter": "python",
   "pygments_lexer": "ipython3",
   "version": "3.9.7"
  },
  "orig_nbformat": 4
 },
 "nbformat": 4,
 "nbformat_minor": 2
}
